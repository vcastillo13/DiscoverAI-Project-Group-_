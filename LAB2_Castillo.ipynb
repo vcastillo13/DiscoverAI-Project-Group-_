{
    "metadata": {
        "kernelspec": {
            "name": "python3",
            "display_name": "Python 3 (ipykernel)",
            "language": "python"
        }
    },
    "nbformat": 4,
    "nbformat_minor": 2,
    "cells": [
        {
            "attachments": {},
            "cell_type": "markdown",
            "metadata": {},
            "source": [
                "# **Heart Disease Identification with Decision Trees**"
            ]
        },
        {
            "attachments": {},
            "cell_type": "markdown",
            "metadata": {},
            "source": [
                "The code below is taken from Pablo M Gomez's submission on [kaggle.com](https://www.kaggle.com/tentotheminus9/what-causes-heart-disease-explaining-the-model).\n",
                "\n",
                "You are encouraged to go to the link above and check the full code. In this lab, you will do the necessary steps to explore the data and prepare it for sklearn algorithms."
            ]
        },
        {
            "attachments": {},
            "cell_type": "markdown",
            "metadata": {},
            "source": [
                "**About the data set**"
            ]
        },
        {
            "attachments": {},
            "cell_type": "markdown",
            "metadata": {},
            "source": [
                "The Cleveland database is the only one that has been used by ML researchers to\n",
                "this date to predict the presence of heart disease in a patient. It is integer valued from 0 (no presence) to 4.\n",
                ""
            ]
        },
        {
            "attachments": {},
            "cell_type": "markdown",
            "metadata": {},
            "source": [
                "**Import libraries**"
            ]
        },
        {
            "cell_type": "code",
            "execution_count": 19,
            "metadata": {},
            "outputs": [],
            "source": [
                "#loading dataset\n",
                "import pandas as pd\n",
                "import numpy as np\n",
                "\n",
                "#visualisation\n",
                "import matplotlib.pyplot as plt\n",
                "%matplotlib inline\n",
                "import seaborn as sns\n",
                "\n",
                "# data splitting\n",
                "from sklearn.model_selection import train_test_split\n",
                "\n",
                "# data modeling\n",
                "from sklearn.tree import DecisionTreeClassifier"
            ]
        },
        {
            "attachments": {},
            "cell_type": "markdown",
            "metadata": {},
            "source": [
                "# Acquire data"
            ]
        },
        {
            "cell_type": "code",
            "execution_count": 20,
            "metadata": {},
            "outputs": [
                {
                    "data": {
                        "text/html": "\u003cdiv\u003e\n\u003cstyle scoped\u003e\n    .dataframe tbody tr th:only-of-type {\n        vertical-align: middle;\n    }\n\n    .dataframe tbody tr th {\n        vertical-align: top;\n    }\n\n    .dataframe thead th {\n        text-align: right;\n    }\n\u003c/style\u003e\n\u003ctable border=\"1\" class=\"dataframe\"\u003e\n  \u003cthead\u003e\n    \u003ctr style=\"text-align: right;\"\u003e\n      \u003cth\u003e\u003c/th\u003e\n      \u003cth\u003eage\u003c/th\u003e\n      \u003cth\u003esex\u003c/th\u003e\n      \u003cth\u003ecp\u003c/th\u003e\n      \u003cth\u003etrestbps\u003c/th\u003e\n      \u003cth\u003echol\u003c/th\u003e\n      \u003cth\u003efbs\u003c/th\u003e\n      \u003cth\u003erestecg\u003c/th\u003e\n      \u003cth\u003ethalach\u003c/th\u003e\n      \u003cth\u003eexang\u003c/th\u003e\n      \u003cth\u003eoldpeak\u003c/th\u003e\n      \u003cth\u003eslope\u003c/th\u003e\n      \u003cth\u003eca\u003c/th\u003e\n      \u003cth\u003ethal\u003c/th\u003e\n      \u003cth\u003etarget\u003c/th\u003e\n    \u003c/tr\u003e\n  \u003c/thead\u003e\n  \u003ctbody\u003e\n    \u003ctr\u003e\n      \u003cth\u003e0\u003c/th\u003e\n      \u003ctd\u003e63\u003c/td\u003e\n      \u003ctd\u003e1\u003c/td\u003e\n      \u003ctd\u003e3\u003c/td\u003e\n      \u003ctd\u003e145\u003c/td\u003e\n      \u003ctd\u003e233\u003c/td\u003e\n      \u003ctd\u003e1\u003c/td\u003e\n      \u003ctd\u003e0\u003c/td\u003e\n      \u003ctd\u003e150\u003c/td\u003e\n      \u003ctd\u003e0\u003c/td\u003e\n      \u003ctd\u003e2.3\u003c/td\u003e\n      \u003ctd\u003e0\u003c/td\u003e\n      \u003ctd\u003e0\u003c/td\u003e\n      \u003ctd\u003e1\u003c/td\u003e\n      \u003ctd\u003e1\u003c/td\u003e\n    \u003c/tr\u003e\n    \u003ctr\u003e\n      \u003cth\u003e1\u003c/th\u003e\n      \u003ctd\u003e37\u003c/td\u003e\n      \u003ctd\u003e1\u003c/td\u003e\n      \u003ctd\u003e2\u003c/td\u003e\n      \u003ctd\u003e130\u003c/td\u003e\n      \u003ctd\u003e250\u003c/td\u003e\n      \u003ctd\u003e0\u003c/td\u003e\n      \u003ctd\u003e1\u003c/td\u003e\n      \u003ctd\u003e187\u003c/td\u003e\n      \u003ctd\u003e0\u003c/td\u003e\n      \u003ctd\u003e3.5\u003c/td\u003e\n      \u003ctd\u003e0\u003c/td\u003e\n      \u003ctd\u003e0\u003c/td\u003e\n      \u003ctd\u003e2\u003c/td\u003e\n      \u003ctd\u003e1\u003c/td\u003e\n    \u003c/tr\u003e\n    \u003ctr\u003e\n      \u003cth\u003e2\u003c/th\u003e\n      \u003ctd\u003e41\u003c/td\u003e\n      \u003ctd\u003e0\u003c/td\u003e\n      \u003ctd\u003e1\u003c/td\u003e\n      \u003ctd\u003e130\u003c/td\u003e\n      \u003ctd\u003e204\u003c/td\u003e\n      \u003ctd\u003e0\u003c/td\u003e\n      \u003ctd\u003e0\u003c/td\u003e\n      \u003ctd\u003e172\u003c/td\u003e\n      \u003ctd\u003e0\u003c/td\u003e\n      \u003ctd\u003e1.4\u003c/td\u003e\n      \u003ctd\u003e2\u003c/td\u003e\n      \u003ctd\u003e0\u003c/td\u003e\n      \u003ctd\u003e2\u003c/td\u003e\n      \u003ctd\u003e1\u003c/td\u003e\n    \u003c/tr\u003e\n    \u003ctr\u003e\n      \u003cth\u003e3\u003c/th\u003e\n      \u003ctd\u003e56\u003c/td\u003e\n      \u003ctd\u003e1\u003c/td\u003e\n      \u003ctd\u003e1\u003c/td\u003e\n      \u003ctd\u003e120\u003c/td\u003e\n      \u003ctd\u003e236\u003c/td\u003e\n      \u003ctd\u003e0\u003c/td\u003e\n      \u003ctd\u003e1\u003c/td\u003e\n      \u003ctd\u003e178\u003c/td\u003e\n      \u003ctd\u003e0\u003c/td\u003e\n      \u003ctd\u003e0.8\u003c/td\u003e\n      \u003ctd\u003e2\u003c/td\u003e\n      \u003ctd\u003e0\u003c/td\u003e\n      \u003ctd\u003e2\u003c/td\u003e\n      \u003ctd\u003e1\u003c/td\u003e\n    \u003c/tr\u003e\n    \u003ctr\u003e\n      \u003cth\u003e4\u003c/th\u003e\n      \u003ctd\u003e57\u003c/td\u003e\n      \u003ctd\u003e0\u003c/td\u003e\n      \u003ctd\u003e0\u003c/td\u003e\n      \u003ctd\u003e120\u003c/td\u003e\n      \u003ctd\u003e354\u003c/td\u003e\n      \u003ctd\u003e0\u003c/td\u003e\n      \u003ctd\u003e1\u003c/td\u003e\n      \u003ctd\u003e163\u003c/td\u003e\n      \u003ctd\u003e1\u003c/td\u003e\n      \u003ctd\u003e0.6\u003c/td\u003e\n      \u003ctd\u003e2\u003c/td\u003e\n      \u003ctd\u003e0\u003c/td\u003e\n      \u003ctd\u003e2\u003c/td\u003e\n      \u003ctd\u003e1\u003c/td\u003e\n    \u003c/tr\u003e\n  \u003c/tbody\u003e\n\u003c/table\u003e\n\u003c/div\u003e",
                        "text/plain": "   age  sex  cp  trestbps  chol  fbs  restecg  thalach  exang  oldpeak  slope  \\\n0   63    1   3       145   233    1        0      150      0      2.3      0   \n1   37    1   2       130   250    0        1      187      0      3.5      0   \n2   41    0   1       130   204    0        0      172      0      1.4      2   \n3   56    1   1       120   236    0        1      178      0      0.8      2   \n4   57    0   0       120   354    0        1      163      1      0.6      2   \n\n   ca  thal  target  \n0   0     1       1  \n1   0     2       1  \n2   0     2       1  \n3   0     2       1  \n4   0     2       1  "
                    },
                    "execution_count": 20,
                    "metadata": {},
                    "output_type": "execute_result"
                }
            ],
            "source": [
                "# Read in the data using panda's read_csv method\n",
                "dt = pd.read_csv(\"SupervisedLearning/HeartDiseaseIdentification/heart.csv\")\n",
                "\n",
                "#TODO: Write code to inspect the first five rows of the dataframe\n",
                "dt.head()\n",
                ""
            ]
        },
        {
            "attachments": {},
            "cell_type": "markdown",
            "metadata": {},
            "source": [
                "# Inspect data"
            ]
        },
        {
            "cell_type": "code",
            "execution_count": 21,
            "metadata": {},
            "outputs": [
                {
                    "data": {
                        "text/plain": "(303, 14)"
                    },
                    "execution_count": 21,
                    "metadata": {},
                    "output_type": "execute_result"
                }
            ],
            "source": [
                "#TODO: Write code to inspect the shape of the data frame\n",
                "dt.shape\n",
                ""
            ]
        },
        {
            "cell_type": "code",
            "execution_count": 22,
            "metadata": {},
            "outputs": [
                {
                    "data": {
                        "text/plain": "\u003cbound method NDFrame.describe of      age  sex  cp  trestbps  chol  fbs  restecg  thalach  exang  oldpeak  \\\n0     63    1   3       145   233    1        0      150      0      2.3   \n1     37    1   2       130   250    0        1      187      0      3.5   \n2     41    0   1       130   204    0        0      172      0      1.4   \n3     56    1   1       120   236    0        1      178      0      0.8   \n4     57    0   0       120   354    0        1      163      1      0.6   \n..   ...  ...  ..       ...   ...  ...      ...      ...    ...      ...   \n298   57    0   0       140   241    0        1      123      1      0.2   \n299   45    1   3       110   264    0        1      132      0      1.2   \n300   68    1   0       144   193    1        1      141      0      3.4   \n301   57    1   0       130   131    0        1      115      1      1.2   \n302   57    0   1       130   236    0        0      174      0      0.0   \n\n     slope  ca  thal  target  \n0        0   0     1       1  \n1        0   0     2       1  \n2        2   0     2       1  \n3        2   0     2       1  \n4        2   0     2       1  \n..     ...  ..   ...     ...  \n298      1   0     3       0  \n299      1   0     3       0  \n300      1   2     3       0  \n301      1   1     3       0  \n302      1   1     2       0  \n\n[303 rows x 14 columns]\u003e"
                    },
                    "execution_count": 22,
                    "metadata": {},
                    "output_type": "execute_result"
                }
            ],
            "source": [
                "#TODO: Write code to display information about the data frame\n",
                "dt.describe"
            ]
        },
        {
            "cell_type": "code",
            "execution_count": 23,
            "metadata": {},
            "outputs": [
                {
                    "data": {
                        "text/plain": "array([[63.,  1.,  3., ...,  0.,  1.,  1.],\n       [37.,  1.,  2., ...,  0.,  2.,  1.],\n       [41.,  0.,  1., ...,  0.,  2.,  1.],\n       ...,\n       [68.,  1.,  0., ...,  2.,  3.,  0.],\n       [57.,  1.,  0., ...,  1.,  3.,  0.],\n       [57.,  0.,  1., ...,  1.,  2.,  0.]])"
                    },
                    "execution_count": 23,
                    "metadata": {},
                    "output_type": "execute_result"
                }
            ],
            "source": [
                "#TODO: Write code to display statistics about the data frame\n",
                "dt.values"
            ]
        },
        {
            "attachments": {},
            "cell_type": "markdown",
            "metadata": {},
            "source": [
                "# Clean data"
            ]
        },
        {
            "attachments": {},
            "cell_type": "markdown",
            "metadata": {},
            "source": [
                "**Correcting**"
            ]
        },
        {
            "attachments": {},
            "cell_type": "markdown",
            "metadata": {},
            "source": [
                "Let's change the column names to be a bit clearer"
            ]
        },
        {
            "cell_type": "code",
            "execution_count": 24,
            "metadata": {},
            "outputs": [],
            "source": [
                "dt.columns = ['age', 'sex', 'chest_pain_type', 'resting_blood_pressure', 'cholesterol', 'fasting_blood_sugar', 'rest_ecg', 'max_heart_rate_achieved',\n",
                "       'exercise_induced_angina', 'st_depression', 'st_slope', 'num_major_vessels', 'thalassemia', 'target']"
            ]
        },
        {
            "attachments": {},
            "cell_type": "markdown",
            "metadata": {},
            "source": [
                "**Converting**"
            ]
        },
        {
            "attachments": {},
            "cell_type": "markdown",
            "metadata": {},
            "source": [
                "Let's change the values of the categorical variables, to improve the interpretation later on"
            ]
        },
        {
            "cell_type": "code",
            "execution_count": 25,
            "metadata": {},
            "outputs": [
                {
                    "name": "stderr",
                    "output_type": "stream",
                    "text": "/tmp/ipykernel_116/516076549.py:2: SettingWithCopyWarning: \nA value is trying to be set on a copy of a slice from a DataFrame\n\nSee the caveats in the documentation: https://pandas.pydata.org/pandas-docs/stable/user_guide/indexing.html#returning-a-view-versus-a-copy\n  dt['sex'][dt['sex'] == 0] = 'female'\n/tmp/ipykernel_116/516076549.py:6: SettingWithCopyWarning: \nA value is trying to be set on a copy of a slice from a DataFrame\n\nSee the caveats in the documentation: https://pandas.pydata.org/pandas-docs/stable/user_guide/indexing.html#returning-a-view-versus-a-copy\n  dt['chest_pain_type'][dt['chest_pain_type'] == 1] = 'typical angina'\n/tmp/ipykernel_116/516076549.py:12: SettingWithCopyWarning: \nA value is trying to be set on a copy of a slice from a DataFrame\n\nSee the caveats in the documentation: https://pandas.pydata.org/pandas-docs/stable/user_guide/indexing.html#returning-a-view-versus-a-copy\n  dt['fasting_blood_sugar'][dt['fasting_blood_sugar']==0] = 'lower than 120mg/ml'\n/tmp/ipykernel_116/516076549.py:19: SettingWithCopyWarning: \nA value is trying to be set on a copy of a slice from a DataFrame\n\nSee the caveats in the documentation: https://pandas.pydata.org/pandas-docs/stable/user_guide/indexing.html#returning-a-view-versus-a-copy\n  dt['rest_ecg'][dt['rest_ecg']== 0]= 'normal'\n/tmp/ipykernel_116/516076549.py:28: SettingWithCopyWarning: \nA value is trying to be set on a copy of a slice from a DataFrame\n\nSee the caveats in the documentation: https://pandas.pydata.org/pandas-docs/stable/user_guide/indexing.html#returning-a-view-versus-a-copy\n  dt['exercise_induced_angina'][dt['exercise_induced_angina']==0]= 'no'\n/tmp/ipykernel_116/516076549.py:35: SettingWithCopyWarning: \nA value is trying to be set on a copy of a slice from a DataFrame\n\nSee the caveats in the documentation: https://pandas.pydata.org/pandas-docs/stable/user_guide/indexing.html#returning-a-view-versus-a-copy\n  dt['st_slope'][dt['st_slope']==0]='upsloping'\n/tmp/ipykernel_116/516076549.py:44: SettingWithCopyWarning: \nA value is trying to be set on a copy of a slice from a DataFrame\n\nSee the caveats in the documentation: https://pandas.pydata.org/pandas-docs/stable/user_guide/indexing.html#returning-a-view-versus-a-copy\n  dt['thalassemia'][dt['thalassemia']==0]= 'normal'\n"
                }
            ],
            "source": [
                "# Convert features 'female' and 'male' to 0 and 1\n",
                "dt['sex'][dt['sex'] == 0] = 'female'\n",
                "dt['sex'][dt['sex'] == 1] = 'male'\n",
                "\n",
                "# Convert chest_pain_type features to 0,1,2,3 and 4\n",
                "dt['chest_pain_type'][dt['chest_pain_type'] == 1] = 'typical angina'\n",
                "dt['chest_pain_type'][dt['chest_pain_type'] == 2] = 'atypical angina'\n",
                "dt['chest_pain_type'][dt['chest_pain_type'] == 3] = 'non-anginal pain'\n",
                "dt['chest_pain_type'][dt['chest_pain_type'] == 4] = 'asymptomatic'\n",
                "\n",
                "#TODO: Write code to convert fasting_blood_sugar features\n",
                "dt['fasting_blood_sugar'][dt['fasting_blood_sugar']==0] = 'lower than 120mg/ml'\n",
                "dt['fasting_blood_sugar'][dt['fasting_blood_sugar']==1] = 'greater than 120mg/ml'\n",
                "#Hint: 'lower than 120mg/ml' should be 0, and \n",
                "#'greater than 120mg/ml' should be 1\n",
                "\n",
                "\n",
                "#TODO: Write code to convert rest_ecg features\n",
                "dt['rest_ecg'][dt['rest_ecg']== 0]= 'normal'\n",
                "dt['rest_ecg'][dt['rest_ecg']== 1]= 'ST-T wave abnormality'\n",
                "dt['rest_ecg'][dt['rest_ecg']== 2]= 'left ventricular hypertrophy'\n",
                "#Hint: 'normal' should be 0, and \n",
                "#'ST-T wave abnormality' should be 1\n",
                "#'left ventricular hypertrophy' should be 2\n",
                "\n",
                "\n",
                "#TODO: Write code to convert exercise_induced_angina features\n",
                "dt['exercise_induced_angina'][dt['exercise_induced_angina']==0]= 'no'\n",
                "dt['exercise_induced_angina'][dt['exercise_induced_angina']==1]= 'yes'\n",
                "#Hint: 'no' should be 0, and \n",
                "#'yes' should be 1\n",
                "\n",
                "\n",
                "#TODO: Write code to convert st_slope features\n",
                "dt['st_slope'][dt['st_slope']==0]='upsloping'\n",
                "dt['st_slope'][dt['st_slope']==1]='flat'\n",
                "dt['st_slope'][dt['st_slope']==2]='downsloping'\n",
                "#Hint: 'upsloping' should be 0, and \n",
                "#'flat' should be 1\n",
                "#'downsloping' should be 2\n",
                "\n",
                "\n",
                "#TODO: Write code to convert thalassemia features\n",
                "dt['thalassemia'][dt['thalassemia']==0]= 'normal'\n",
                "dt['thalassemia'][dt['thalassemia']==1]= 'fixed defect'\n",
                "dt['thalassemia'][dt['thalassemia']==2]= 'reversable defect'\n",
                "#Hint: 'normal' should be 0, and \n",
                "#'fixed defect' should be 1\n",
                "#'reversable defect' should be 2\n",
                "\n",
                ""
            ]
        },
        {
            "attachments": {},
            "cell_type": "markdown",
            "metadata": {},
            "source": [
                "Check the data types"
            ]
        },
        {
            "cell_type": "code",
            "execution_count": 26,
            "metadata": {},
            "outputs": [
                {
                    "data": {
                        "text/plain": "age                          int64\nsex                         object\nchest_pain_type             object\nresting_blood_pressure       int64\ncholesterol                  int64\nfasting_blood_sugar         object\nrest_ecg                    object\nmax_heart_rate_achieved      int64\nexercise_induced_angina     object\nst_depression              float64\nst_slope                    object\nnum_major_vessels            int64\nthalassemia                 object\ntarget                       int64\ndtype: object"
                    },
                    "execution_count": 26,
                    "metadata": {},
                    "output_type": "execute_result"
                }
            ],
            "source": [
                "dt.dtypes"
            ]
        },
        {
            "attachments": {},
            "cell_type": "markdown",
            "metadata": {},
            "source": [
                "Some of those aren't quite right. The code below changes them into categorical variables"
            ]
        },
        {
            "cell_type": "code",
            "execution_count": 27,
            "metadata": {},
            "outputs": [],
            "source": [
                "dt['sex'] = dt['sex'].astype('object')\n",
                "dt['chest_pain_type'] = dt['chest_pain_type'].astype('object')\n",
                "dt['fasting_blood_sugar'] = dt['fasting_blood_sugar'].astype('object')\n",
                "dt['rest_ecg'] = dt['rest_ecg'].astype('object')\n",
                "dt['exercise_induced_angina'] = dt['exercise_induced_angina'].astype('object')\n",
                "dt['st_slope'] = dt['st_slope'].astype('object')\n",
                "dt['thalassemia'] = dt['thalassemia'].astype('object')\n",
                ""
            ]
        },
        {
            "cell_type": "code",
            "execution_count": 28,
            "metadata": {},
            "outputs": [
                {
                    "data": {
                        "text/html": "\u003cdiv\u003e\n\u003cstyle scoped\u003e\n    .dataframe tbody tr th:only-of-type {\n        vertical-align: middle;\n    }\n\n    .dataframe tbody tr th {\n        vertical-align: top;\n    }\n\n    .dataframe thead th {\n        text-align: right;\n    }\n\u003c/style\u003e\n\u003ctable border=\"1\" class=\"dataframe\"\u003e\n  \u003cthead\u003e\n    \u003ctr style=\"text-align: right;\"\u003e\n      \u003cth\u003e\u003c/th\u003e\n      \u003cth\u003eage\u003c/th\u003e\n      \u003cth\u003esex\u003c/th\u003e\n      \u003cth\u003echest_pain_type\u003c/th\u003e\n      \u003cth\u003eresting_blood_pressure\u003c/th\u003e\n      \u003cth\u003echolesterol\u003c/th\u003e\n      \u003cth\u003efasting_blood_sugar\u003c/th\u003e\n      \u003cth\u003erest_ecg\u003c/th\u003e\n      \u003cth\u003emax_heart_rate_achieved\u003c/th\u003e\n      \u003cth\u003eexercise_induced_angina\u003c/th\u003e\n      \u003cth\u003est_depression\u003c/th\u003e\n      \u003cth\u003est_slope\u003c/th\u003e\n      \u003cth\u003enum_major_vessels\u003c/th\u003e\n      \u003cth\u003ethalassemia\u003c/th\u003e\n      \u003cth\u003etarget\u003c/th\u003e\n    \u003c/tr\u003e\n  \u003c/thead\u003e\n  \u003ctbody\u003e\n    \u003ctr\u003e\n      \u003cth\u003e0\u003c/th\u003e\n      \u003ctd\u003e63\u003c/td\u003e\n      \u003ctd\u003emale\u003c/td\u003e\n      \u003ctd\u003enon-anginal pain\u003c/td\u003e\n      \u003ctd\u003e145\u003c/td\u003e\n      \u003ctd\u003e233\u003c/td\u003e\n      \u003ctd\u003egreater than 120mg/ml\u003c/td\u003e\n      \u003ctd\u003enormal\u003c/td\u003e\n      \u003ctd\u003e150\u003c/td\u003e\n      \u003ctd\u003eno\u003c/td\u003e\n      \u003ctd\u003e2.3\u003c/td\u003e\n      \u003ctd\u003eupsloping\u003c/td\u003e\n      \u003ctd\u003e0\u003c/td\u003e\n      \u003ctd\u003efixed defect\u003c/td\u003e\n      \u003ctd\u003e1\u003c/td\u003e\n    \u003c/tr\u003e\n    \u003ctr\u003e\n      \u003cth\u003e1\u003c/th\u003e\n      \u003ctd\u003e37\u003c/td\u003e\n      \u003ctd\u003emale\u003c/td\u003e\n      \u003ctd\u003eatypical angina\u003c/td\u003e\n      \u003ctd\u003e130\u003c/td\u003e\n      \u003ctd\u003e250\u003c/td\u003e\n      \u003ctd\u003elower than 120mg/ml\u003c/td\u003e\n      \u003ctd\u003eST-T wave abnormality\u003c/td\u003e\n      \u003ctd\u003e187\u003c/td\u003e\n      \u003ctd\u003eno\u003c/td\u003e\n      \u003ctd\u003e3.5\u003c/td\u003e\n      \u003ctd\u003eupsloping\u003c/td\u003e\n      \u003ctd\u003e0\u003c/td\u003e\n      \u003ctd\u003ereversable defect\u003c/td\u003e\n      \u003ctd\u003e1\u003c/td\u003e\n    \u003c/tr\u003e\n    \u003ctr\u003e\n      \u003cth\u003e2\u003c/th\u003e\n      \u003ctd\u003e41\u003c/td\u003e\n      \u003ctd\u003efemale\u003c/td\u003e\n      \u003ctd\u003etypical angina\u003c/td\u003e\n      \u003ctd\u003e130\u003c/td\u003e\n      \u003ctd\u003e204\u003c/td\u003e\n      \u003ctd\u003elower than 120mg/ml\u003c/td\u003e\n      \u003ctd\u003enormal\u003c/td\u003e\n      \u003ctd\u003e172\u003c/td\u003e\n      \u003ctd\u003eno\u003c/td\u003e\n      \u003ctd\u003e1.4\u003c/td\u003e\n      \u003ctd\u003edownsloping\u003c/td\u003e\n      \u003ctd\u003e0\u003c/td\u003e\n      \u003ctd\u003ereversable defect\u003c/td\u003e\n      \u003ctd\u003e1\u003c/td\u003e\n    \u003c/tr\u003e\n    \u003ctr\u003e\n      \u003cth\u003e3\u003c/th\u003e\n      \u003ctd\u003e56\u003c/td\u003e\n      \u003ctd\u003emale\u003c/td\u003e\n      \u003ctd\u003etypical angina\u003c/td\u003e\n      \u003ctd\u003e120\u003c/td\u003e\n      \u003ctd\u003e236\u003c/td\u003e\n      \u003ctd\u003elower than 120mg/ml\u003c/td\u003e\n      \u003ctd\u003eST-T wave abnormality\u003c/td\u003e\n      \u003ctd\u003e178\u003c/td\u003e\n      \u003ctd\u003eno\u003c/td\u003e\n      \u003ctd\u003e0.8\u003c/td\u003e\n      \u003ctd\u003edownsloping\u003c/td\u003e\n      \u003ctd\u003e0\u003c/td\u003e\n      \u003ctd\u003ereversable defect\u003c/td\u003e\n      \u003ctd\u003e1\u003c/td\u003e\n    \u003c/tr\u003e\n    \u003ctr\u003e\n      \u003cth\u003e4\u003c/th\u003e\n      \u003ctd\u003e57\u003c/td\u003e\n      \u003ctd\u003efemale\u003c/td\u003e\n      \u003ctd\u003e0\u003c/td\u003e\n      \u003ctd\u003e120\u003c/td\u003e\n      \u003ctd\u003e354\u003c/td\u003e\n      \u003ctd\u003elower than 120mg/ml\u003c/td\u003e\n      \u003ctd\u003eST-T wave abnormality\u003c/td\u003e\n      \u003ctd\u003e163\u003c/td\u003e\n      \u003ctd\u003eyes\u003c/td\u003e\n      \u003ctd\u003e0.6\u003c/td\u003e\n      \u003ctd\u003edownsloping\u003c/td\u003e\n      \u003ctd\u003e0\u003c/td\u003e\n      \u003ctd\u003ereversable defect\u003c/td\u003e\n      \u003ctd\u003e1\u003c/td\u003e\n    \u003c/tr\u003e\n    \u003ctr\u003e\n      \u003cth\u003e...\u003c/th\u003e\n      \u003ctd\u003e...\u003c/td\u003e\n      \u003ctd\u003e...\u003c/td\u003e\n      \u003ctd\u003e...\u003c/td\u003e\n      \u003ctd\u003e...\u003c/td\u003e\n      \u003ctd\u003e...\u003c/td\u003e\n      \u003ctd\u003e...\u003c/td\u003e\n      \u003ctd\u003e...\u003c/td\u003e\n      \u003ctd\u003e...\u003c/td\u003e\n      \u003ctd\u003e...\u003c/td\u003e\n      \u003ctd\u003e...\u003c/td\u003e\n      \u003ctd\u003e...\u003c/td\u003e\n      \u003ctd\u003e...\u003c/td\u003e\n      \u003ctd\u003e...\u003c/td\u003e\n      \u003ctd\u003e...\u003c/td\u003e\n    \u003c/tr\u003e\n    \u003ctr\u003e\n      \u003cth\u003e298\u003c/th\u003e\n      \u003ctd\u003e57\u003c/td\u003e\n      \u003ctd\u003efemale\u003c/td\u003e\n      \u003ctd\u003e0\u003c/td\u003e\n      \u003ctd\u003e140\u003c/td\u003e\n      \u003ctd\u003e241\u003c/td\u003e\n      \u003ctd\u003elower than 120mg/ml\u003c/td\u003e\n      \u003ctd\u003eST-T wave abnormality\u003c/td\u003e\n      \u003ctd\u003e123\u003c/td\u003e\n      \u003ctd\u003eyes\u003c/td\u003e\n      \u003ctd\u003e0.2\u003c/td\u003e\n      \u003ctd\u003eflat\u003c/td\u003e\n      \u003ctd\u003e0\u003c/td\u003e\n      \u003ctd\u003e3\u003c/td\u003e\n      \u003ctd\u003e0\u003c/td\u003e\n    \u003c/tr\u003e\n    \u003ctr\u003e\n      \u003cth\u003e299\u003c/th\u003e\n      \u003ctd\u003e45\u003c/td\u003e\n      \u003ctd\u003emale\u003c/td\u003e\n      \u003ctd\u003enon-anginal pain\u003c/td\u003e\n      \u003ctd\u003e110\u003c/td\u003e\n      \u003ctd\u003e264\u003c/td\u003e\n      \u003ctd\u003elower than 120mg/ml\u003c/td\u003e\n      \u003ctd\u003eST-T wave abnormality\u003c/td\u003e\n      \u003ctd\u003e132\u003c/td\u003e\n      \u003ctd\u003eno\u003c/td\u003e\n      \u003ctd\u003e1.2\u003c/td\u003e\n      \u003ctd\u003eflat\u003c/td\u003e\n      \u003ctd\u003e0\u003c/td\u003e\n      \u003ctd\u003e3\u003c/td\u003e\n      \u003ctd\u003e0\u003c/td\u003e\n    \u003c/tr\u003e\n    \u003ctr\u003e\n      \u003cth\u003e300\u003c/th\u003e\n      \u003ctd\u003e68\u003c/td\u003e\n      \u003ctd\u003emale\u003c/td\u003e\n      \u003ctd\u003e0\u003c/td\u003e\n      \u003ctd\u003e144\u003c/td\u003e\n      \u003ctd\u003e193\u003c/td\u003e\n      \u003ctd\u003egreater than 120mg/ml\u003c/td\u003e\n      \u003ctd\u003eST-T wave abnormality\u003c/td\u003e\n      \u003ctd\u003e141\u003c/td\u003e\n      \u003ctd\u003eno\u003c/td\u003e\n      \u003ctd\u003e3.4\u003c/td\u003e\n      \u003ctd\u003eflat\u003c/td\u003e\n      \u003ctd\u003e2\u003c/td\u003e\n      \u003ctd\u003e3\u003c/td\u003e\n      \u003ctd\u003e0\u003c/td\u003e\n    \u003c/tr\u003e\n    \u003ctr\u003e\n      \u003cth\u003e301\u003c/th\u003e\n      \u003ctd\u003e57\u003c/td\u003e\n      \u003ctd\u003emale\u003c/td\u003e\n      \u003ctd\u003e0\u003c/td\u003e\n      \u003ctd\u003e130\u003c/td\u003e\n      \u003ctd\u003e131\u003c/td\u003e\n      \u003ctd\u003elower than 120mg/ml\u003c/td\u003e\n      \u003ctd\u003eST-T wave abnormality\u003c/td\u003e\n      \u003ctd\u003e115\u003c/td\u003e\n      \u003ctd\u003eyes\u003c/td\u003e\n      \u003ctd\u003e1.2\u003c/td\u003e\n      \u003ctd\u003eflat\u003c/td\u003e\n      \u003ctd\u003e1\u003c/td\u003e\n      \u003ctd\u003e3\u003c/td\u003e\n      \u003ctd\u003e0\u003c/td\u003e\n    \u003c/tr\u003e\n    \u003ctr\u003e\n      \u003cth\u003e302\u003c/th\u003e\n      \u003ctd\u003e57\u003c/td\u003e\n      \u003ctd\u003efemale\u003c/td\u003e\n      \u003ctd\u003etypical angina\u003c/td\u003e\n      \u003ctd\u003e130\u003c/td\u003e\n      \u003ctd\u003e236\u003c/td\u003e\n      \u003ctd\u003elower than 120mg/ml\u003c/td\u003e\n      \u003ctd\u003enormal\u003c/td\u003e\n      \u003ctd\u003e174\u003c/td\u003e\n      \u003ctd\u003eno\u003c/td\u003e\n      \u003ctd\u003e0.0\u003c/td\u003e\n      \u003ctd\u003eflat\u003c/td\u003e\n      \u003ctd\u003e1\u003c/td\u003e\n      \u003ctd\u003ereversable defect\u003c/td\u003e\n      \u003ctd\u003e0\u003c/td\u003e\n    \u003c/tr\u003e\n  \u003c/tbody\u003e\n\u003c/table\u003e\n\u003cp\u003e303 rows × 14 columns\u003c/p\u003e\n\u003c/div\u003e",
                        "text/plain": "     age     sex   chest_pain_type  resting_blood_pressure  cholesterol  \\\n0     63    male  non-anginal pain                     145          233   \n1     37    male   atypical angina                     130          250   \n2     41  female    typical angina                     130          204   \n3     56    male    typical angina                     120          236   \n4     57  female                 0                     120          354   \n..   ...     ...               ...                     ...          ...   \n298   57  female                 0                     140          241   \n299   45    male  non-anginal pain                     110          264   \n300   68    male                 0                     144          193   \n301   57    male                 0                     130          131   \n302   57  female    typical angina                     130          236   \n\n       fasting_blood_sugar               rest_ecg  max_heart_rate_achieved  \\\n0    greater than 120mg/ml                 normal                      150   \n1      lower than 120mg/ml  ST-T wave abnormality                      187   \n2      lower than 120mg/ml                 normal                      172   \n3      lower than 120mg/ml  ST-T wave abnormality                      178   \n4      lower than 120mg/ml  ST-T wave abnormality                      163   \n..                     ...                    ...                      ...   \n298    lower than 120mg/ml  ST-T wave abnormality                      123   \n299    lower than 120mg/ml  ST-T wave abnormality                      132   \n300  greater than 120mg/ml  ST-T wave abnormality                      141   \n301    lower than 120mg/ml  ST-T wave abnormality                      115   \n302    lower than 120mg/ml                 normal                      174   \n\n    exercise_induced_angina  st_depression     st_slope  num_major_vessels  \\\n0                        no            2.3    upsloping                  0   \n1                        no            3.5    upsloping                  0   \n2                        no            1.4  downsloping                  0   \n3                        no            0.8  downsloping                  0   \n4                       yes            0.6  downsloping                  0   \n..                      ...            ...          ...                ...   \n298                     yes            0.2         flat                  0   \n299                      no            1.2         flat                  0   \n300                      no            3.4         flat                  2   \n301                     yes            1.2         flat                  1   \n302                      no            0.0         flat                  1   \n\n           thalassemia  target  \n0         fixed defect       1  \n1    reversable defect       1  \n2    reversable defect       1  \n3    reversable defect       1  \n4    reversable defect       1  \n..                 ...     ...  \n298                  3       0  \n299                  3       0  \n300                  3       0  \n301                  3       0  \n302  reversable defect       0  \n\n[303 rows x 14 columns]"
                    },
                    "execution_count": 28,
                    "metadata": {},
                    "output_type": "execute_result"
                }
            ],
            "source": [
                "#TODO: Write code to check the data types again see the change\n",
                "dt"
            ]
        },
        {
            "attachments": {},
            "cell_type": "markdown",
            "metadata": {},
            "source": [
                "**Creating**"
            ]
        },
        {
            "attachments": {},
            "cell_type": "markdown",
            "metadata": {},
            "source": [
                "For the categorical varibles, we need to create dummy variables and drop the first category of each. \n",
                "\n",
                "For example, rather than having 'male' and 'female', we'll have 'male' with values of 0 or 1 (1 being male, and 0 therefore being female)."
            ]
        },
        {
            "cell_type": "code",
            "execution_count": 29,
            "metadata": {},
            "outputs": [],
            "source": [
                "dt = pd.get_dummies(dt, drop_first = True)"
            ]
        },
        {
            "attachments": {},
            "cell_type": "markdown",
            "metadata": {},
            "source": [
                "Inspect the data frame"
            ]
        },
        {
            "cell_type": "code",
            "execution_count": 30,
            "metadata": {},
            "outputs": [
                {
                    "data": {
                        "text/html": "\u003cdiv\u003e\n\u003cstyle scoped\u003e\n    .dataframe tbody tr th:only-of-type {\n        vertical-align: middle;\n    }\n\n    .dataframe tbody tr th {\n        vertical-align: top;\n    }\n\n    .dataframe thead th {\n        text-align: right;\n    }\n\u003c/style\u003e\n\u003ctable border=\"1\" class=\"dataframe\"\u003e\n  \u003cthead\u003e\n    \u003ctr style=\"text-align: right;\"\u003e\n      \u003cth\u003e\u003c/th\u003e\n      \u003cth\u003eage\u003c/th\u003e\n      \u003cth\u003eresting_blood_pressure\u003c/th\u003e\n      \u003cth\u003echolesterol\u003c/th\u003e\n      \u003cth\u003emax_heart_rate_achieved\u003c/th\u003e\n      \u003cth\u003est_depression\u003c/th\u003e\n      \u003cth\u003enum_major_vessels\u003c/th\u003e\n      \u003cth\u003etarget\u003c/th\u003e\n      \u003cth\u003esex_male\u003c/th\u003e\n      \u003cth\u003echest_pain_type_atypical angina\u003c/th\u003e\n      \u003cth\u003echest_pain_type_non-anginal pain\u003c/th\u003e\n      \u003cth\u003echest_pain_type_typical angina\u003c/th\u003e\n      \u003cth\u003efasting_blood_sugar_lower than 120mg/ml\u003c/th\u003e\n      \u003cth\u003erest_ecg_left ventricular hypertrophy\u003c/th\u003e\n      \u003cth\u003erest_ecg_normal\u003c/th\u003e\n      \u003cth\u003eexercise_induced_angina_yes\u003c/th\u003e\n      \u003cth\u003est_slope_flat\u003c/th\u003e\n      \u003cth\u003est_slope_upsloping\u003c/th\u003e\n      \u003cth\u003ethalassemia_fixed defect\u003c/th\u003e\n      \u003cth\u003ethalassemia_normal\u003c/th\u003e\n      \u003cth\u003ethalassemia_reversable defect\u003c/th\u003e\n    \u003c/tr\u003e\n  \u003c/thead\u003e\n  \u003ctbody\u003e\n    \u003ctr\u003e\n      \u003cth\u003e0\u003c/th\u003e\n      \u003ctd\u003e63\u003c/td\u003e\n      \u003ctd\u003e145\u003c/td\u003e\n      \u003ctd\u003e233\u003c/td\u003e\n      \u003ctd\u003e150\u003c/td\u003e\n      \u003ctd\u003e2.3\u003c/td\u003e\n      \u003ctd\u003e0\u003c/td\u003e\n      \u003ctd\u003e1\u003c/td\u003e\n      \u003ctd\u003e1\u003c/td\u003e\n      \u003ctd\u003e0\u003c/td\u003e\n      \u003ctd\u003e1\u003c/td\u003e\n      \u003ctd\u003e0\u003c/td\u003e\n      \u003ctd\u003e0\u003c/td\u003e\n      \u003ctd\u003e0\u003c/td\u003e\n      \u003ctd\u003e1\u003c/td\u003e\n      \u003ctd\u003e0\u003c/td\u003e\n      \u003ctd\u003e0\u003c/td\u003e\n      \u003ctd\u003e1\u003c/td\u003e\n      \u003ctd\u003e1\u003c/td\u003e\n      \u003ctd\u003e0\u003c/td\u003e\n      \u003ctd\u003e0\u003c/td\u003e\n    \u003c/tr\u003e\n    \u003ctr\u003e\n      \u003cth\u003e1\u003c/th\u003e\n      \u003ctd\u003e37\u003c/td\u003e\n      \u003ctd\u003e130\u003c/td\u003e\n      \u003ctd\u003e250\u003c/td\u003e\n      \u003ctd\u003e187\u003c/td\u003e\n      \u003ctd\u003e3.5\u003c/td\u003e\n      \u003ctd\u003e0\u003c/td\u003e\n      \u003ctd\u003e1\u003c/td\u003e\n      \u003ctd\u003e1\u003c/td\u003e\n      \u003ctd\u003e1\u003c/td\u003e\n      \u003ctd\u003e0\u003c/td\u003e\n      \u003ctd\u003e0\u003c/td\u003e\n      \u003ctd\u003e1\u003c/td\u003e\n      \u003ctd\u003e0\u003c/td\u003e\n      \u003ctd\u003e0\u003c/td\u003e\n      \u003ctd\u003e0\u003c/td\u003e\n      \u003ctd\u003e0\u003c/td\u003e\n      \u003ctd\u003e1\u003c/td\u003e\n      \u003ctd\u003e0\u003c/td\u003e\n      \u003ctd\u003e0\u003c/td\u003e\n      \u003ctd\u003e1\u003c/td\u003e\n    \u003c/tr\u003e\n    \u003ctr\u003e\n      \u003cth\u003e2\u003c/th\u003e\n      \u003ctd\u003e41\u003c/td\u003e\n      \u003ctd\u003e130\u003c/td\u003e\n      \u003ctd\u003e204\u003c/td\u003e\n      \u003ctd\u003e172\u003c/td\u003e\n      \u003ctd\u003e1.4\u003c/td\u003e\n      \u003ctd\u003e0\u003c/td\u003e\n      \u003ctd\u003e1\u003c/td\u003e\n      \u003ctd\u003e0\u003c/td\u003e\n      \u003ctd\u003e0\u003c/td\u003e\n      \u003ctd\u003e0\u003c/td\u003e\n      \u003ctd\u003e1\u003c/td\u003e\n      \u003ctd\u003e1\u003c/td\u003e\n      \u003ctd\u003e0\u003c/td\u003e\n      \u003ctd\u003e1\u003c/td\u003e\n      \u003ctd\u003e0\u003c/td\u003e\n      \u003ctd\u003e0\u003c/td\u003e\n      \u003ctd\u003e0\u003c/td\u003e\n      \u003ctd\u003e0\u003c/td\u003e\n      \u003ctd\u003e0\u003c/td\u003e\n      \u003ctd\u003e1\u003c/td\u003e\n    \u003c/tr\u003e\n    \u003ctr\u003e\n      \u003cth\u003e3\u003c/th\u003e\n      \u003ctd\u003e56\u003c/td\u003e\n      \u003ctd\u003e120\u003c/td\u003e\n      \u003ctd\u003e236\u003c/td\u003e\n      \u003ctd\u003e178\u003c/td\u003e\n      \u003ctd\u003e0.8\u003c/td\u003e\n      \u003ctd\u003e0\u003c/td\u003e\n      \u003ctd\u003e1\u003c/td\u003e\n      \u003ctd\u003e1\u003c/td\u003e\n      \u003ctd\u003e0\u003c/td\u003e\n      \u003ctd\u003e0\u003c/td\u003e\n      \u003ctd\u003e1\u003c/td\u003e\n      \u003ctd\u003e1\u003c/td\u003e\n      \u003ctd\u003e0\u003c/td\u003e\n      \u003ctd\u003e0\u003c/td\u003e\n      \u003ctd\u003e0\u003c/td\u003e\n      \u003ctd\u003e0\u003c/td\u003e\n      \u003ctd\u003e0\u003c/td\u003e\n      \u003ctd\u003e0\u003c/td\u003e\n      \u003ctd\u003e0\u003c/td\u003e\n      \u003ctd\u003e1\u003c/td\u003e\n    \u003c/tr\u003e\n    \u003ctr\u003e\n      \u003cth\u003e4\u003c/th\u003e\n      \u003ctd\u003e57\u003c/td\u003e\n      \u003ctd\u003e120\u003c/td\u003e\n      \u003ctd\u003e354\u003c/td\u003e\n      \u003ctd\u003e163\u003c/td\u003e\n      \u003ctd\u003e0.6\u003c/td\u003e\n      \u003ctd\u003e0\u003c/td\u003e\n      \u003ctd\u003e1\u003c/td\u003e\n      \u003ctd\u003e0\u003c/td\u003e\n      \u003ctd\u003e0\u003c/td\u003e\n      \u003ctd\u003e0\u003c/td\u003e\n      \u003ctd\u003e0\u003c/td\u003e\n      \u003ctd\u003e1\u003c/td\u003e\n      \u003ctd\u003e0\u003c/td\u003e\n      \u003ctd\u003e0\u003c/td\u003e\n      \u003ctd\u003e1\u003c/td\u003e\n      \u003ctd\u003e0\u003c/td\u003e\n      \u003ctd\u003e0\u003c/td\u003e\n      \u003ctd\u003e0\u003c/td\u003e\n      \u003ctd\u003e0\u003c/td\u003e\n      \u003ctd\u003e1\u003c/td\u003e\n    \u003c/tr\u003e\n    \u003ctr\u003e\n      \u003cth\u003e...\u003c/th\u003e\n      \u003ctd\u003e...\u003c/td\u003e\n      \u003ctd\u003e...\u003c/td\u003e\n      \u003ctd\u003e...\u003c/td\u003e\n      \u003ctd\u003e...\u003c/td\u003e\n      \u003ctd\u003e...\u003c/td\u003e\n      \u003ctd\u003e...\u003c/td\u003e\n      \u003ctd\u003e...\u003c/td\u003e\n      \u003ctd\u003e...\u003c/td\u003e\n      \u003ctd\u003e...\u003c/td\u003e\n      \u003ctd\u003e...\u003c/td\u003e\n      \u003ctd\u003e...\u003c/td\u003e\n      \u003ctd\u003e...\u003c/td\u003e\n      \u003ctd\u003e...\u003c/td\u003e\n      \u003ctd\u003e...\u003c/td\u003e\n      \u003ctd\u003e...\u003c/td\u003e\n      \u003ctd\u003e...\u003c/td\u003e\n      \u003ctd\u003e...\u003c/td\u003e\n      \u003ctd\u003e...\u003c/td\u003e\n      \u003ctd\u003e...\u003c/td\u003e\n      \u003ctd\u003e...\u003c/td\u003e\n    \u003c/tr\u003e\n    \u003ctr\u003e\n      \u003cth\u003e298\u003c/th\u003e\n      \u003ctd\u003e57\u003c/td\u003e\n      \u003ctd\u003e140\u003c/td\u003e\n      \u003ctd\u003e241\u003c/td\u003e\n      \u003ctd\u003e123\u003c/td\u003e\n      \u003ctd\u003e0.2\u003c/td\u003e\n      \u003ctd\u003e0\u003c/td\u003e\n      \u003ctd\u003e0\u003c/td\u003e\n      \u003ctd\u003e0\u003c/td\u003e\n      \u003ctd\u003e0\u003c/td\u003e\n      \u003ctd\u003e0\u003c/td\u003e\n      \u003ctd\u003e0\u003c/td\u003e\n      \u003ctd\u003e1\u003c/td\u003e\n      \u003ctd\u003e0\u003c/td\u003e\n      \u003ctd\u003e0\u003c/td\u003e\n      \u003ctd\u003e1\u003c/td\u003e\n      \u003ctd\u003e1\u003c/td\u003e\n      \u003ctd\u003e0\u003c/td\u003e\n      \u003ctd\u003e0\u003c/td\u003e\n      \u003ctd\u003e0\u003c/td\u003e\n      \u003ctd\u003e0\u003c/td\u003e\n    \u003c/tr\u003e\n    \u003ctr\u003e\n      \u003cth\u003e299\u003c/th\u003e\n      \u003ctd\u003e45\u003c/td\u003e\n      \u003ctd\u003e110\u003c/td\u003e\n      \u003ctd\u003e264\u003c/td\u003e\n      \u003ctd\u003e132\u003c/td\u003e\n      \u003ctd\u003e1.2\u003c/td\u003e\n      \u003ctd\u003e0\u003c/td\u003e\n      \u003ctd\u003e0\u003c/td\u003e\n      \u003ctd\u003e1\u003c/td\u003e\n      \u003ctd\u003e0\u003c/td\u003e\n      \u003ctd\u003e1\u003c/td\u003e\n      \u003ctd\u003e0\u003c/td\u003e\n      \u003ctd\u003e1\u003c/td\u003e\n      \u003ctd\u003e0\u003c/td\u003e\n      \u003ctd\u003e0\u003c/td\u003e\n      \u003ctd\u003e0\u003c/td\u003e\n      \u003ctd\u003e1\u003c/td\u003e\n      \u003ctd\u003e0\u003c/td\u003e\n      \u003ctd\u003e0\u003c/td\u003e\n      \u003ctd\u003e0\u003c/td\u003e\n      \u003ctd\u003e0\u003c/td\u003e\n    \u003c/tr\u003e\n    \u003ctr\u003e\n      \u003cth\u003e300\u003c/th\u003e\n      \u003ctd\u003e68\u003c/td\u003e\n      \u003ctd\u003e144\u003c/td\u003e\n      \u003ctd\u003e193\u003c/td\u003e\n      \u003ctd\u003e141\u003c/td\u003e\n      \u003ctd\u003e3.4\u003c/td\u003e\n      \u003ctd\u003e2\u003c/td\u003e\n      \u003ctd\u003e0\u003c/td\u003e\n      \u003ctd\u003e1\u003c/td\u003e\n      \u003ctd\u003e0\u003c/td\u003e\n      \u003ctd\u003e0\u003c/td\u003e\n      \u003ctd\u003e0\u003c/td\u003e\n      \u003ctd\u003e0\u003c/td\u003e\n      \u003ctd\u003e0\u003c/td\u003e\n      \u003ctd\u003e0\u003c/td\u003e\n      \u003ctd\u003e0\u003c/td\u003e\n      \u003ctd\u003e1\u003c/td\u003e\n      \u003ctd\u003e0\u003c/td\u003e\n      \u003ctd\u003e0\u003c/td\u003e\n      \u003ctd\u003e0\u003c/td\u003e\n      \u003ctd\u003e0\u003c/td\u003e\n    \u003c/tr\u003e\n    \u003ctr\u003e\n      \u003cth\u003e301\u003c/th\u003e\n      \u003ctd\u003e57\u003c/td\u003e\n      \u003ctd\u003e130\u003c/td\u003e\n      \u003ctd\u003e131\u003c/td\u003e\n      \u003ctd\u003e115\u003c/td\u003e\n      \u003ctd\u003e1.2\u003c/td\u003e\n      \u003ctd\u003e1\u003c/td\u003e\n      \u003ctd\u003e0\u003c/td\u003e\n      \u003ctd\u003e1\u003c/td\u003e\n      \u003ctd\u003e0\u003c/td\u003e\n      \u003ctd\u003e0\u003c/td\u003e\n      \u003ctd\u003e0\u003c/td\u003e\n      \u003ctd\u003e1\u003c/td\u003e\n      \u003ctd\u003e0\u003c/td\u003e\n      \u003ctd\u003e0\u003c/td\u003e\n      \u003ctd\u003e1\u003c/td\u003e\n      \u003ctd\u003e1\u003c/td\u003e\n      \u003ctd\u003e0\u003c/td\u003e\n      \u003ctd\u003e0\u003c/td\u003e\n      \u003ctd\u003e0\u003c/td\u003e\n      \u003ctd\u003e0\u003c/td\u003e\n    \u003c/tr\u003e\n    \u003ctr\u003e\n      \u003cth\u003e302\u003c/th\u003e\n      \u003ctd\u003e57\u003c/td\u003e\n      \u003ctd\u003e130\u003c/td\u003e\n      \u003ctd\u003e236\u003c/td\u003e\n      \u003ctd\u003e174\u003c/td\u003e\n      \u003ctd\u003e0.0\u003c/td\u003e\n      \u003ctd\u003e1\u003c/td\u003e\n      \u003ctd\u003e0\u003c/td\u003e\n      \u003ctd\u003e0\u003c/td\u003e\n      \u003ctd\u003e0\u003c/td\u003e\n      \u003ctd\u003e0\u003c/td\u003e\n      \u003ctd\u003e1\u003c/td\u003e\n      \u003ctd\u003e1\u003c/td\u003e\n      \u003ctd\u003e0\u003c/td\u003e\n      \u003ctd\u003e1\u003c/td\u003e\n      \u003ctd\u003e0\u003c/td\u003e\n      \u003ctd\u003e1\u003c/td\u003e\n      \u003ctd\u003e0\u003c/td\u003e\n      \u003ctd\u003e0\u003c/td\u003e\n      \u003ctd\u003e0\u003c/td\u003e\n      \u003ctd\u003e1\u003c/td\u003e\n    \u003c/tr\u003e\n  \u003c/tbody\u003e\n\u003c/table\u003e\n\u003cp\u003e303 rows × 20 columns\u003c/p\u003e\n\u003c/div\u003e",
                        "text/plain": "     age  resting_blood_pressure  cholesterol  max_heart_rate_achieved  \\\n0     63                     145          233                      150   \n1     37                     130          250                      187   \n2     41                     130          204                      172   \n3     56                     120          236                      178   \n4     57                     120          354                      163   \n..   ...                     ...          ...                      ...   \n298   57                     140          241                      123   \n299   45                     110          264                      132   \n300   68                     144          193                      141   \n301   57                     130          131                      115   \n302   57                     130          236                      174   \n\n     st_depression  num_major_vessels  target  sex_male  \\\n0              2.3                  0       1         1   \n1              3.5                  0       1         1   \n2              1.4                  0       1         0   \n3              0.8                  0       1         1   \n4              0.6                  0       1         0   \n..             ...                ...     ...       ...   \n298            0.2                  0       0         0   \n299            1.2                  0       0         1   \n300            3.4                  2       0         1   \n301            1.2                  1       0         1   \n302            0.0                  1       0         0   \n\n     chest_pain_type_atypical angina  chest_pain_type_non-anginal pain  \\\n0                                  0                                 1   \n1                                  1                                 0   \n2                                  0                                 0   \n3                                  0                                 0   \n4                                  0                                 0   \n..                               ...                               ...   \n298                                0                                 0   \n299                                0                                 1   \n300                                0                                 0   \n301                                0                                 0   \n302                                0                                 0   \n\n     chest_pain_type_typical angina  fasting_blood_sugar_lower than 120mg/ml  \\\n0                                 0                                        0   \n1                                 0                                        1   \n2                                 1                                        1   \n3                                 1                                        1   \n4                                 0                                        1   \n..                              ...                                      ...   \n298                               0                                        1   \n299                               0                                        1   \n300                               0                                        0   \n301                               0                                        1   \n302                               1                                        1   \n\n     rest_ecg_left ventricular hypertrophy  rest_ecg_normal  \\\n0                                        0                1   \n1                                        0                0   \n2                                        0                1   \n3                                        0                0   \n4                                        0                0   \n..                                     ...              ...   \n298                                      0                0   \n299                                      0                0   \n300                                      0                0   \n301                                      0                0   \n302                                      0                1   \n\n     exercise_induced_angina_yes  st_slope_flat  st_slope_upsloping  \\\n0                              0              0                   1   \n1                              0              0                   1   \n2                              0              0                   0   \n3                              0              0                   0   \n4                              1              0                   0   \n..                           ...            ...                 ...   \n298                            1              1                   0   \n299                            0              1                   0   \n300                            0              1                   0   \n301                            1              1                   0   \n302                            0              1                   0   \n\n     thalassemia_fixed defect  thalassemia_normal  \\\n0                           1                   0   \n1                           0                   0   \n2                           0                   0   \n3                           0                   0   \n4                           0                   0   \n..                        ...                 ...   \n298                         0                   0   \n299                         0                   0   \n300                         0                   0   \n301                         0                   0   \n302                         0                   0   \n\n     thalassemia_reversable defect  \n0                                0  \n1                                1  \n2                                1  \n3                                1  \n4                                1  \n..                             ...  \n298                              0  \n299                              0  \n300                              0  \n301                              0  \n302                              1  \n\n[303 rows x 20 columns]"
                    },
                    "execution_count": 30,
                    "metadata": {},
                    "output_type": "execute_result"
                }
            ],
            "source": [
                "dt"
            ]
        },
        {
            "attachments": {},
            "cell_type": "markdown",
            "metadata": {},
            "source": [
                "# Earn Your Wings"
            ]
        },
        {
            "attachments": {},
            "cell_type": "markdown",
            "metadata": {},
            "source": [
                "Use a decision tree classifier on the cleaned data set to predict 'Survived' for the given data. Report the accuracy score. Add comments in your code to explain each step that you take in your implementation."
            ]
        },
        {
            "cell_type": "code",
            "execution_count": 0,
            "metadata": {},
            "outputs": [],
            "source": [
                ""
            ]
        }
    ]
}
